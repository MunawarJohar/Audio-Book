{
 "cells": [
  {
   "cell_type": "code",
   "execution_count": 4,
   "id": "4abfed97",
   "metadata": {},
   "outputs": [],
   "source": [
    "import pyttsx3   #python text to speech x 3 library"
   ]
  },
  {
   "cell_type": "code",
   "execution_count": 7,
   "id": "a7bb7554",
   "metadata": {},
   "outputs": [],
   "source": [
    "speek_man=pyttsx3.init()\n",
    "speek_man.say(\"Hello every one my name is munawar johar i am a python developer what can i help you.\")"
   ]
  },
  {
   "cell_type": "code",
   "execution_count": 8,
   "id": "74f60813",
   "metadata": {},
   "outputs": [],
   "source": [
    "speek_man.runAndWait()"
   ]
  },
  {
   "cell_type": "code",
   "execution_count": null,
   "id": "52b37912",
   "metadata": {},
   "outputs": [],
   "source": []
  },
  {
   "cell_type": "code",
   "execution_count": null,
   "id": "cba70ede",
   "metadata": {},
   "outputs": [],
   "source": []
  },
  {
   "cell_type": "code",
   "execution_count": null,
   "id": "865ece74",
   "metadata": {},
   "outputs": [],
   "source": []
  }
 ],
 "metadata": {
  "kernelspec": {
   "display_name": "Python 3 (ipykernel)",
   "language": "python",
   "name": "python3"
  },
  "language_info": {
   "codemirror_mode": {
    "name": "ipython",
    "version": 3
   },
   "file_extension": ".py",
   "mimetype": "text/x-python",
   "name": "python",
   "nbconvert_exporter": "python",
   "pygments_lexer": "ipython3",
   "version": "3.10.4"
  }
 },
 "nbformat": 4,
 "nbformat_minor": 5
}
