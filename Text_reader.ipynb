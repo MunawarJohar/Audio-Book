{
 "cells": [
  {
   "cell_type": "code",
   "execution_count": 1,
   "id": "542f55b1",
   "metadata": {},
   "outputs": [],
   "source": [
    "import pyttsx3     "
   ]
  },
  {
   "cell_type": "code",
   "execution_count": 2,
   "id": "8c5fc628",
   "metadata": {},
   "outputs": [],
   "source": [
    "import PyPDF2 # python pdf "
   ]
  },
  {
   "cell_type": "code",
   "execution_count": 3,
   "id": "82658ccb",
   "metadata": {},
   "outputs": [],
   "source": [
    "file=open(\"My_Resumes.pdf\",mode=\"rb\")\n",
    "pdf_read=PyPDF2.PdfFileReader(file)\n",
    "# page_numbers=pdf_read.numPages\n",
    "# print(page_numbers)\n",
    "page=pdf_read.getPage(0)\n"
   ]
  },
  {
   "cell_type": "code",
   "execution_count": 4,
   "id": "10ce146a",
   "metadata": {},
   "outputs": [],
   "source": [
    "read=page.extractText()\n",
    "speek=pyttsx3.init()\n",
    "speek.say(read)"
   ]
  },
  {
   "cell_type": "code",
   "execution_count": 5,
   "id": "fb3abec2",
   "metadata": {},
   "outputs": [],
   "source": [
    "speek.runAndWait()"
   ]
  },
  {
   "cell_type": "code",
   "execution_count": null,
   "id": "dd0198b2",
   "metadata": {},
   "outputs": [],
   "source": []
  },
  {
   "cell_type": "code",
   "execution_count": null,
   "id": "df976a5b",
   "metadata": {},
   "outputs": [],
   "source": []
  }
 ],
 "metadata": {
  "kernelspec": {
   "display_name": "Python 3 (ipykernel)",
   "language": "python",
   "name": "python3"
  },
  "language_info": {
   "codemirror_mode": {
    "name": "ipython",
    "version": 3
   },
   "file_extension": ".py",
   "mimetype": "text/x-python",
   "name": "python",
   "nbconvert_exporter": "python",
   "pygments_lexer": "ipython3",
   "version": "3.10.4"
  }
 },
 "nbformat": 4,
 "nbformat_minor": 5
}
